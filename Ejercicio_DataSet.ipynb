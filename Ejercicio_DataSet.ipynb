{
 "cells": [
  {
   "attachments": {},
   "cell_type": "markdown",
   "metadata": {},
   "source": [
    "# Ejercicio perdidos en el espacio.\n",
    "    \n",
    "\n",
    "    "
   ]
  },
  {
   "cell_type": "code",
   "execution_count": 57,
   "metadata": {},
   "outputs": [],
   "source": [
    "# importamos las librerias necesarias\n",
    "import pandas as pd\n",
    "import faker as fk\n",
    "import random as rd\n",
    "import pandas as pd\n",
    "import numpy as np\n",
    "from sklearn.linear_model import LinearRegression\n",
    "import matplotlib.pyplot as plt\n",
    "from sklearn.preprocessing import LabelEncoder\n",
    "import openpyxl"
   ]
  },
  {
   "cell_type": "code",
   "execution_count": 58,
   "metadata": {},
   "outputs": [],
   "source": [
    "planetas = {\n",
    "    \"Tierra\": 9.8,\n",
    "    \"Marte\": 3.7,\n",
    "    \"Júpiter\": 24.8,\n",
    "    \"Saturno\": 9.0,\n",
    "    \"Urano\": 8.7,\n",
    "    \"Neptuno\": 11.0\n",
    "}\n"
   ]
  },
  {
   "cell_type": "code",
   "execution_count": 59,
   "metadata": {},
   "outputs": [
    {
     "name": "stdout",
     "output_type": "stream",
     "text": [
      "La aceleración de la gravedad es:  9.45179584120983\n"
     ]
    }
   ],
   "source": [
    "# Para el apartado A\n",
    "L1 = 1.00\n",
    "t1 = 0.46\n",
    "g_a = 2*L1 / (t1**2)\n",
    "print(\"La aceleración de la gravedad es: \", g_a)"
   ]
  },
  {
   "cell_type": "code",
   "execution_count": 60,
   "metadata": {},
   "outputs": [
    {
     "name": "stdout",
     "output_type": "stream",
     "text": [
      "La aceleración de la gravedad es:  9.182736455463727\n"
     ]
    }
   ],
   "source": [
    "# Para el apartado B\n",
    "L2 = 2.00\n",
    "t2 = 0.66\n",
    "g_b = 2*L2 / (t2**2)\n",
    "print(\"La aceleración de la gravedad es: \", g_b)"
   ]
  },
  {
   "cell_type": "code",
   "execution_count": 61,
   "metadata": {},
   "outputs": [
    {
     "data": {
      "text/html": [
       "<div>\n",
       "<style scoped>\n",
       "    .dataframe tbody tr th:only-of-type {\n",
       "        vertical-align: middle;\n",
       "    }\n",
       "\n",
       "    .dataframe tbody tr th {\n",
       "        vertical-align: top;\n",
       "    }\n",
       "\n",
       "    .dataframe thead th {\n",
       "        text-align: right;\n",
       "    }\n",
       "</style>\n",
       "<table border=\"1\" class=\"dataframe\">\n",
       "  <thead>\n",
       "    <tr style=\"text-align: right;\">\n",
       "      <th></th>\n",
       "      <th>Longitud</th>\n",
       "      <th>Tiempo</th>\n",
       "      <th>Gravedad</th>\n",
       "      <th>Planeta más cercano</th>\n",
       "      <th>2ndo más cercano</th>\n",
       "    </tr>\n",
       "  </thead>\n",
       "  <tbody>\n",
       "    <tr>\n",
       "      <th>Escenario A</th>\n",
       "      <td>1.0</td>\n",
       "      <td>0.46</td>\n",
       "      <td>9.451796</td>\n",
       "      <td>Tierra</td>\n",
       "      <td>Saturno</td>\n",
       "    </tr>\n",
       "    <tr>\n",
       "      <th>Escenario B</th>\n",
       "      <td>2.0</td>\n",
       "      <td>0.66</td>\n",
       "      <td>9.182736</td>\n",
       "      <td>Saturno</td>\n",
       "      <td>Tierra</td>\n",
       "    </tr>\n",
       "  </tbody>\n",
       "</table>\n",
       "</div>"
      ],
      "text/plain": [
       "             Longitud  Tiempo  Gravedad Planeta más cercano 2ndo más cercano\n",
       "Escenario A       1.0    0.46  9.451796              Tierra          Saturno\n",
       "Escenario B       2.0    0.66  9.182736             Saturno           Tierra"
      ]
     },
     "execution_count": 61,
     "metadata": {},
     "output_type": "execute_result"
    }
   ],
   "source": [
    "# creamos un dataframe con los datos\n",
    "df = pd.DataFrame({\n",
    "    'Longitud': [L1, L2],\n",
    "    'Tiempo': [t1, t2],\n",
    "    'Gravedad': [g_a, g_b],\n",
    "    'Planeta más cercano': ['Tierra', 'Saturno'],\n",
    "    '2ndo más cercano': ['Saturno', 'Tierra']},\n",
    "    index= ['Escenario A', 'Escenario B'])\n",
    "df"
   ]
  },
  {
   "cell_type": "code",
   "execution_count": 62,
   "metadata": {},
   "outputs": [
    {
     "name": "stdout",
     "output_type": "stream",
     "text": [
      "{'Id': 'b26617bd-08a0-4729-bccc-40ee0c5b6d6b', 'Longitud (m)': 2.01, 'Tiempo (s)': 0.46, 'Gravedad (m/s^2)': 19.0, 'Planeta más cercano': 'Tierra', '2ndo más cercano': 'Saturno'}\n",
      "{'Id': '13605e92-6764-469d-8bb9-531483d70599', 'Longitud (m)': 1.43, 'Tiempo (s)': 0.44, 'Gravedad (m/s^2)': 14.77, 'Planeta más cercano': 'Tierra', '2ndo más cercano': 'Saturno'}\n",
      "{'Id': 'df2b082d-ef6e-4019-b670-35eb379e37e2', 'Longitud (m)': 2.21, 'Tiempo (s)': 0.4, 'Gravedad (m/s^2)': 27.62, 'Planeta más cercano': 'Tierra', '2ndo más cercano': 'Saturno'}\n",
      "{'Id': 'cff3ae2c-281e-46aa-ad9d-81c5bcb5982e', 'Longitud (m)': 1.84, 'Tiempo (s)': 0.78, 'Gravedad (m/s^2)': 6.05, 'Planeta más cercano': 'Tierra', '2ndo más cercano': 'Saturno'}\n",
      "{'Id': '9397e539-5155-44ee-bcf4-1bb0f07f90ab', 'Longitud (m)': 1.48, 'Tiempo (s)': 0.5, 'Gravedad (m/s^2)': 11.84, 'Planeta más cercano': 'Tierra', '2ndo más cercano': 'Saturno'}\n",
      "{'Id': '715aa5a5-d40d-4e5c-805e-10d31c6f4787', 'Longitud (m)': 1.57, 'Tiempo (s)': 0.63, 'Gravedad (m/s^2)': 7.91, 'Planeta más cercano': 'Tierra', '2ndo más cercano': 'Saturno'}\n",
      "{'Id': '5eebea9a-6e40-4147-9c82-be508a1c9e4a', 'Longitud (m)': 1.9, 'Tiempo (s)': 0.34, 'Gravedad (m/s^2)': 32.87, 'Planeta más cercano': 'Tierra', '2ndo más cercano': 'Saturno'}\n",
      "{'Id': '07ba125b-b763-4eba-ab02-07ca3133e9b4', 'Longitud (m)': 1.04, 'Tiempo (s)': 0.37, 'Gravedad (m/s^2)': 15.19, 'Planeta más cercano': 'Tierra', '2ndo más cercano': 'Saturno'}\n",
      "{'Id': '44cad5eb-4419-490c-a25f-ded64a41ce94', 'Longitud (m)': 1.28, 'Tiempo (s)': 0.79, 'Gravedad (m/s^2)': 4.1, 'Planeta más cercano': 'Tierra', '2ndo más cercano': 'Saturno'}\n",
      "{'Id': '542f9967-50ad-41bc-9d2b-b5d539b3fcee', 'Longitud (m)': 1.37, 'Tiempo (s)': 0.45, 'Gravedad (m/s^2)': 13.53, 'Planeta más cercano': 'Tierra', '2ndo más cercano': 'Saturno'}\n",
      "{'Id': '21ba6202-d63c-4b7d-88c3-93ed43320894', 'Longitud (m)': 0.8, 'Tiempo (s)': 0.36, 'Gravedad (m/s^2)': 12.35, 'Planeta más cercano': 'Tierra', '2ndo más cercano': 'Saturno'}\n",
      "{'Id': 'dd81e36b-4e46-4236-9581-df116bda2555', 'Longitud (m)': 0.95, 'Tiempo (s)': 0.35, 'Gravedad (m/s^2)': 15.51, 'Planeta más cercano': 'Tierra', '2ndo más cercano': 'Saturno'}\n",
      "{'Id': 'bb7e9a67-92a6-4ea4-a7f2-9a3d6a7e0866', 'Longitud (m)': 2.25, 'Tiempo (s)': 0.69, 'Gravedad (m/s^2)': 9.45, 'Planeta más cercano': 'Tierra', '2ndo más cercano': 'Saturno'}\n",
      "{'Id': 'c7aab321-23e0-4d81-b380-a9508dfd74ec', 'Longitud (m)': 1.25, 'Tiempo (s)': 0.33, 'Gravedad (m/s^2)': 22.96, 'Planeta más cercano': 'Tierra', '2ndo más cercano': 'Saturno'}\n",
      "{'Id': 'c12f2dc7-8f84-4f67-b8ce-c740d2a9e50e', 'Longitud (m)': 2.02, 'Tiempo (s)': 0.34, 'Gravedad (m/s^2)': 34.95, 'Planeta más cercano': 'Tierra', '2ndo más cercano': 'Saturno'}\n",
      "{'Id': 'b7c61d93-910c-4187-9436-f614af6f1eb0', 'Longitud (m)': 0.73, 'Tiempo (s)': 0.72, 'Gravedad (m/s^2)': 2.82, 'Planeta más cercano': 'Tierra', '2ndo más cercano': 'Saturno'}\n",
      "{'Id': '4fba8ba7-f5b1-44a2-a824-070e413b3cb2', 'Longitud (m)': 1.59, 'Tiempo (s)': 0.61, 'Gravedad (m/s^2)': 8.55, 'Planeta más cercano': 'Tierra', '2ndo más cercano': 'Saturno'}\n",
      "{'Id': 'c9dd41f3-c378-4f64-a636-72d8ebf8742b', 'Longitud (m)': 2.17, 'Tiempo (s)': 0.39, 'Gravedad (m/s^2)': 28.53, 'Planeta más cercano': 'Tierra', '2ndo más cercano': 'Saturno'}\n",
      "{'Id': '20f98a83-97c5-448c-913c-f0bb6a8b8c60', 'Longitud (m)': 1.52, 'Tiempo (s)': 0.41, 'Gravedad (m/s^2)': 18.08, 'Planeta más cercano': 'Tierra', '2ndo más cercano': 'Saturno'}\n",
      "{'Id': '9fce84b5-f1e7-4b20-8f46-aa0a3fe12e8b', 'Longitud (m)': 2.33, 'Tiempo (s)': 0.35, 'Gravedad (m/s^2)': 38.04, 'Planeta más cercano': 'Tierra', '2ndo más cercano': 'Saturno'}\n",
      "{'Id': '35af8121-93fb-44b5-850d-153786aed8fa', 'Longitud (m)': 0.71, 'Tiempo (s)': 0.32, 'Gravedad (m/s^2)': 13.87, 'Planeta más cercano': 'Tierra', '2ndo más cercano': 'Saturno'}\n",
      "{'Id': '76e6d3e7-4cb5-4bda-83f4-eded5fbb999d', 'Longitud (m)': 1.7, 'Tiempo (s)': 0.47, 'Gravedad (m/s^2)': 15.39, 'Planeta más cercano': 'Tierra', '2ndo más cercano': 'Saturno'}\n",
      "{'Id': 'fc14100d-6583-43ed-8747-fd971533385d', 'Longitud (m)': 1.33, 'Tiempo (s)': 0.32, 'Gravedad (m/s^2)': 25.98, 'Planeta más cercano': 'Tierra', '2ndo más cercano': 'Saturno'}\n",
      "{'Id': '3e05af7f-e250-4af5-8002-ca1e6ff09b7d', 'Longitud (m)': 2.39, 'Tiempo (s)': 0.31, 'Gravedad (m/s^2)': 49.74, 'Planeta más cercano': 'Tierra', '2ndo más cercano': 'Saturno'}\n",
      "{'Id': 'eaf12873-d32b-4d82-a1a7-febfa174983a', 'Longitud (m)': 0.93, 'Tiempo (s)': 0.57, 'Gravedad (m/s^2)': 5.72, 'Planeta más cercano': 'Tierra', '2ndo más cercano': 'Saturno'}\n",
      "{'Id': 'd326bac4-8b4e-4513-8eb8-c8911845d4a5', 'Longitud (m)': 1.71, 'Tiempo (s)': 0.67, 'Gravedad (m/s^2)': 7.62, 'Planeta más cercano': 'Tierra', '2ndo más cercano': 'Saturno'}\n",
      "{'Id': '40b94bcc-d297-4fc0-8ab5-833071087ef1', 'Longitud (m)': 2.05, 'Tiempo (s)': 0.44, 'Gravedad (m/s^2)': 21.18, 'Planeta más cercano': 'Tierra', '2ndo más cercano': 'Saturno'}\n",
      "{'Id': '7b43e9c1-1e52-49c7-a078-2c8706f61e38', 'Longitud (m)': 1.35, 'Tiempo (s)': 0.72, 'Gravedad (m/s^2)': 5.21, 'Planeta más cercano': 'Tierra', '2ndo más cercano': 'Saturno'}\n",
      "{'Id': 'cb3307db-a382-45dd-9554-33e07812bd20', 'Longitud (m)': 0.99, 'Tiempo (s)': 0.77, 'Gravedad (m/s^2)': 3.34, 'Planeta más cercano': 'Tierra', '2ndo más cercano': 'Saturno'}\n",
      "{'Id': 'a61c3fc5-74fa-49f1-80a5-ed081d3c94bb', 'Longitud (m)': 0.83, 'Tiempo (s)': 0.51, 'Gravedad (m/s^2)': 6.38, 'Planeta más cercano': 'Tierra', '2ndo más cercano': 'Saturno'}\n",
      "{'Id': 'e1644a82-7041-4eed-933c-ebfd7146e9be', 'Longitud (m)': 1.95, 'Tiempo (s)': 0.37, 'Gravedad (m/s^2)': 28.49, 'Planeta más cercano': 'Tierra', '2ndo más cercano': 'Saturno'}\n",
      "{'Id': '52736993-5c07-433a-ad50-8c6a860b0be0', 'Longitud (m)': 1.83, 'Tiempo (s)': 0.51, 'Gravedad (m/s^2)': 14.07, 'Planeta más cercano': 'Tierra', '2ndo más cercano': 'Saturno'}\n",
      "{'Id': '60df803e-6714-4860-87e2-aa99f738a72c', 'Longitud (m)': 2.38, 'Tiempo (s)': 0.66, 'Gravedad (m/s^2)': 10.93, 'Planeta más cercano': 'Tierra', '2ndo más cercano': 'Saturno'}\n",
      "{'Id': '2691962f-1c23-4017-ae52-acc7792df8c9', 'Longitud (m)': 1.21, 'Tiempo (s)': 0.3, 'Gravedad (m/s^2)': 26.89, 'Planeta más cercano': 'Tierra', '2ndo más cercano': 'Saturno'}\n",
      "{'Id': 'c079cce4-2ebf-4182-baad-0b575736a829', 'Longitud (m)': 2.47, 'Tiempo (s)': 0.61, 'Gravedad (m/s^2)': 13.28, 'Planeta más cercano': 'Tierra', '2ndo más cercano': 'Saturno'}\n",
      "{'Id': 'ac4b5904-2996-458d-84dc-225a26b5d9b9', 'Longitud (m)': 1.84, 'Tiempo (s)': 0.38, 'Gravedad (m/s^2)': 25.48, 'Planeta más cercano': 'Tierra', '2ndo más cercano': 'Saturno'}\n",
      "{'Id': '5dc07262-3a58-47b9-a014-89737d6b8f23', 'Longitud (m)': 2.26, 'Tiempo (s)': 0.58, 'Gravedad (m/s^2)': 13.44, 'Planeta más cercano': 'Tierra', '2ndo más cercano': 'Saturno'}\n",
      "{'Id': '63e50724-f680-437b-8d71-fa0e55da288f', 'Longitud (m)': 2.17, 'Tiempo (s)': 0.5, 'Gravedad (m/s^2)': 17.36, 'Planeta más cercano': 'Tierra', '2ndo más cercano': 'Saturno'}\n",
      "{'Id': '1f09d5f0-605c-4e95-8ba3-fdeff8c1a969', 'Longitud (m)': 1.86, 'Tiempo (s)': 0.71, 'Gravedad (m/s^2)': 7.38, 'Planeta más cercano': 'Tierra', '2ndo más cercano': 'Saturno'}\n",
      "{'Id': '4dcb871b-d6cb-4c19-ad0d-c94d277c0c48', 'Longitud (m)': 1.4, 'Tiempo (s)': 0.67, 'Gravedad (m/s^2)': 6.24, 'Planeta más cercano': 'Tierra', '2ndo más cercano': 'Saturno'}\n",
      "{'Id': '67f00a00-4821-47b1-9f58-8b7586dc5f34', 'Longitud (m)': 0.7, 'Tiempo (s)': 0.53, 'Gravedad (m/s^2)': 4.98, 'Planeta más cercano': 'Tierra', '2ndo más cercano': 'Saturno'}\n",
      "{'Id': 'ace6c298-8ae9-46e7-8849-7a1da71a59f0', 'Longitud (m)': 1.38, 'Tiempo (s)': 0.69, 'Gravedad (m/s^2)': 5.8, 'Planeta más cercano': 'Tierra', '2ndo más cercano': 'Saturno'}\n",
      "{'Id': '984bfc08-c2fb-4b67-845d-d7cd82120780', 'Longitud (m)': 1.05, 'Tiempo (s)': 0.43, 'Gravedad (m/s^2)': 11.36, 'Planeta más cercano': 'Tierra', '2ndo más cercano': 'Saturno'}\n",
      "{'Id': '996f911d-4887-42eb-ad65-e9f3c6a19c95', 'Longitud (m)': 0.81, 'Tiempo (s)': 0.51, 'Gravedad (m/s^2)': 6.23, 'Planeta más cercano': 'Tierra', '2ndo más cercano': 'Saturno'}\n",
      "{'Id': 'e2cc63af-cc08-471d-8372-2ef43f218466', 'Longitud (m)': 2.11, 'Tiempo (s)': 0.58, 'Gravedad (m/s^2)': 12.54, 'Planeta más cercano': 'Tierra', '2ndo más cercano': 'Saturno'}\n",
      "{'Id': '003de4d3-68ef-4088-8f8a-48665afc5d97', 'Longitud (m)': 1.56, 'Tiempo (s)': 0.38, 'Gravedad (m/s^2)': 21.61, 'Planeta más cercano': 'Tierra', '2ndo más cercano': 'Saturno'}\n",
      "{'Id': '60cbb03b-1cd6-4f4b-9134-164afa471485', 'Longitud (m)': 1.23, 'Tiempo (s)': 0.51, 'Gravedad (m/s^2)': 9.46, 'Planeta más cercano': 'Tierra', '2ndo más cercano': 'Saturno'}\n",
      "{'Id': 'ad9e9046-f6ea-442f-b353-23264e167242', 'Longitud (m)': 2.22, 'Tiempo (s)': 0.54, 'Gravedad (m/s^2)': 15.23, 'Planeta más cercano': 'Tierra', '2ndo más cercano': 'Saturno'}\n",
      "{'Id': 'd677d1bd-640c-4938-a477-66337e1808f7', 'Longitud (m)': 0.84, 'Tiempo (s)': 0.41, 'Gravedad (m/s^2)': 9.99, 'Planeta más cercano': 'Tierra', '2ndo más cercano': 'Saturno'}\n",
      "{'Id': '02a211b9-607d-4213-8047-a80b487d0cfa', 'Longitud (m)': 0.89, 'Tiempo (s)': 0.68, 'Gravedad (m/s^2)': 3.85, 'Planeta más cercano': 'Tierra', '2ndo más cercano': 'Saturno'}\n",
      "{'Id': '3787ec8e-69d7-4372-8200-35e862db6eca', 'Longitud (m)': 1.12, 'Tiempo (s)': 0.52, 'Gravedad (m/s^2)': 8.28, 'Planeta más cercano': 'Tierra', '2ndo más cercano': 'Saturno'}\n",
      "{'Id': 'e6f106d6-2610-43a1-9b24-f72c102fa729', 'Longitud (m)': 0.74, 'Tiempo (s)': 0.58, 'Gravedad (m/s^2)': 4.4, 'Planeta más cercano': 'Tierra', '2ndo más cercano': 'Saturno'}\n",
      "{'Id': 'ded681be-07a0-486f-9836-35998941b9f4', 'Longitud (m)': 0.78, 'Tiempo (s)': 0.35, 'Gravedad (m/s^2)': 12.73, 'Planeta más cercano': 'Tierra', '2ndo más cercano': 'Saturno'}\n",
      "{'Id': '8f7e5ae3-18bb-4696-8ae6-eb6087b17dad', 'Longitud (m)': 1.29, 'Tiempo (s)': 0.4, 'Gravedad (m/s^2)': 16.12, 'Planeta más cercano': 'Tierra', '2ndo más cercano': 'Saturno'}\n",
      "{'Id': 'c8d43c68-d9b2-4ed6-8a56-466c8eb4add5', 'Longitud (m)': 2.47, 'Tiempo (s)': 0.46, 'Gravedad (m/s^2)': 23.35, 'Planeta más cercano': 'Tierra', '2ndo más cercano': 'Saturno'}\n",
      "{'Id': '6df2b6ee-5ef4-4aff-8157-46764286e290', 'Longitud (m)': 1.75, 'Tiempo (s)': 0.73, 'Gravedad (m/s^2)': 6.57, 'Planeta más cercano': 'Tierra', '2ndo más cercano': 'Saturno'}\n",
      "{'Id': 'f11ed1d3-e62e-457a-b4c1-b9ac9bc44a51', 'Longitud (m)': 1.02, 'Tiempo (s)': 0.31, 'Gravedad (m/s^2)': 21.23, 'Planeta más cercano': 'Tierra', '2ndo más cercano': 'Saturno'}\n",
      "{'Id': '771c2fe0-d05a-4f4f-a0b0-64510ffe4aad', 'Longitud (m)': 1.19, 'Tiempo (s)': 0.41, 'Gravedad (m/s^2)': 14.16, 'Planeta más cercano': 'Tierra', '2ndo más cercano': 'Saturno'}\n",
      "{'Id': 'f22d9ad4-28f7-400e-abdd-56caae52319b', 'Longitud (m)': 1.33, 'Tiempo (s)': 0.33, 'Gravedad (m/s^2)': 24.43, 'Planeta más cercano': 'Tierra', '2ndo más cercano': 'Saturno'}\n",
      "{'Id': '26a8803c-34ee-43f2-a64b-2080fcdfdab7', 'Longitud (m)': 0.83, 'Tiempo (s)': 0.42, 'Gravedad (m/s^2)': 9.41, 'Planeta más cercano': 'Tierra', '2ndo más cercano': 'Saturno'}\n",
      "{'Id': '0defba30-680e-4550-a294-142c152613c1', 'Longitud (m)': 2.05, 'Tiempo (s)': 0.6, 'Gravedad (m/s^2)': 11.39, 'Planeta más cercano': 'Tierra', '2ndo más cercano': 'Saturno'}\n",
      "{'Id': '6edae1cd-0738-4dc7-90fa-3d84dfde9f05', 'Longitud (m)': 0.96, 'Tiempo (s)': 0.69, 'Gravedad (m/s^2)': 4.03, 'Planeta más cercano': 'Tierra', '2ndo más cercano': 'Saturno'}\n",
      "{'Id': '182936a4-5f67-46f4-9b67-7ef91e88fb21', 'Longitud (m)': 0.7, 'Tiempo (s)': 0.34, 'Gravedad (m/s^2)': 12.11, 'Planeta más cercano': 'Tierra', '2ndo más cercano': 'Saturno'}\n",
      "{'Id': '15a55a68-ce1b-4ef9-9911-29f847a81bee', 'Longitud (m)': 2.06, 'Tiempo (s)': 0.39, 'Gravedad (m/s^2)': 27.09, 'Planeta más cercano': 'Tierra', '2ndo más cercano': 'Saturno'}\n",
      "{'Id': '79378f2c-4c6a-4b58-966a-4e49ff0f0aaf', 'Longitud (m)': 1.12, 'Tiempo (s)': 0.53, 'Gravedad (m/s^2)': 7.97, 'Planeta más cercano': 'Tierra', '2ndo más cercano': 'Saturno'}\n",
      "{'Id': '116a2c53-51d7-4f6a-8390-183fa3ca1405', 'Longitud (m)': 1.02, 'Tiempo (s)': 0.35, 'Gravedad (m/s^2)': 16.65, 'Planeta más cercano': 'Tierra', '2ndo más cercano': 'Saturno'}\n",
      "{'Id': '3067159b-9c03-469f-8f3c-59f6e2d5d4d8', 'Longitud (m)': 1.77, 'Tiempo (s)': 0.53, 'Gravedad (m/s^2)': 12.6, 'Planeta más cercano': 'Tierra', '2ndo más cercano': 'Saturno'}\n",
      "{'Id': 'b1b3aa18-e13e-4589-b761-655c4d420240', 'Longitud (m)': 1.06, 'Tiempo (s)': 0.71, 'Gravedad (m/s^2)': 4.21, 'Planeta más cercano': 'Tierra', '2ndo más cercano': 'Saturno'}\n",
      "{'Id': '81d9fbe3-333d-4439-b673-39a623a19672', 'Longitud (m)': 1.94, 'Tiempo (s)': 0.37, 'Gravedad (m/s^2)': 28.34, 'Planeta más cercano': 'Tierra', '2ndo más cercano': 'Saturno'}\n",
      "{'Id': 'be1f610a-39d4-41a8-bf9a-9e2ce60f9c38', 'Longitud (m)': 1.75, 'Tiempo (s)': 0.49, 'Gravedad (m/s^2)': 14.58, 'Planeta más cercano': 'Tierra', '2ndo más cercano': 'Saturno'}\n",
      "{'Id': '9f808c9a-0238-47eb-a4bd-f1a6a9bb82b2', 'Longitud (m)': 1.61, 'Tiempo (s)': 0.31, 'Gravedad (m/s^2)': 33.51, 'Planeta más cercano': 'Tierra', '2ndo más cercano': 'Saturno'}\n",
      "{'Id': '701b3564-94eb-4edc-82f6-6079af0e0bb0', 'Longitud (m)': 1.33, 'Tiempo (s)': 0.8, 'Gravedad (m/s^2)': 4.16, 'Planeta más cercano': 'Tierra', '2ndo más cercano': 'Saturno'}\n",
      "{'Id': '28486566-5858-4af9-bcef-feba1e281803', 'Longitud (m)': 1.06, 'Tiempo (s)': 0.42, 'Gravedad (m/s^2)': 12.02, 'Planeta más cercano': 'Tierra', '2ndo más cercano': 'Saturno'}\n",
      "{'Id': 'c5a8f93d-e97f-4944-9646-64c2e8bcbce0', 'Longitud (m)': 0.85, 'Tiempo (s)': 0.63, 'Gravedad (m/s^2)': 4.28, 'Planeta más cercano': 'Tierra', '2ndo más cercano': 'Saturno'}\n",
      "{'Id': '450f4336-8d7d-4e6b-bb84-006c27aea3dc', 'Longitud (m)': 1.35, 'Tiempo (s)': 0.39, 'Gravedad (m/s^2)': 17.75, 'Planeta más cercano': 'Tierra', '2ndo más cercano': 'Saturno'}\n",
      "{'Id': 'd2c7fd14-c65b-47c0-b871-e69ef4a44f8a', 'Longitud (m)': 2.25, 'Tiempo (s)': 0.68, 'Gravedad (m/s^2)': 9.73, 'Planeta más cercano': 'Tierra', '2ndo más cercano': 'Saturno'}\n",
      "{'Id': 'ba7dfd6b-5e09-4de5-a231-2e7fc4eb3e2c', 'Longitud (m)': 2.5, 'Tiempo (s)': 0.59, 'Gravedad (m/s^2)': 14.36, 'Planeta más cercano': 'Tierra', '2ndo más cercano': 'Saturno'}\n",
      "{'Id': 'de268e44-4ab2-4225-9b64-a349cafd37f3', 'Longitud (m)': 1.33, 'Tiempo (s)': 0.61, 'Gravedad (m/s^2)': 7.15, 'Planeta más cercano': 'Tierra', '2ndo más cercano': 'Saturno'}\n",
      "{'Id': 'e1271480-89e0-40c6-96d9-b7dab230156e', 'Longitud (m)': 1.32, 'Tiempo (s)': 0.68, 'Gravedad (m/s^2)': 5.71, 'Planeta más cercano': 'Tierra', '2ndo más cercano': 'Saturno'}\n",
      "{'Id': 'f8b36199-c8e3-483a-ab1a-989c8d116048', 'Longitud (m)': 2.35, 'Tiempo (s)': 0.61, 'Gravedad (m/s^2)': 12.63, 'Planeta más cercano': 'Tierra', '2ndo más cercano': 'Saturno'}\n",
      "{'Id': '55db5e12-e08f-4e87-8611-ce82f7ea26e6', 'Longitud (m)': 1.82, 'Tiempo (s)': 0.67, 'Gravedad (m/s^2)': 8.11, 'Planeta más cercano': 'Tierra', '2ndo más cercano': 'Saturno'}\n",
      "{'Id': '0492944f-421f-4d42-8a1d-081e0bd0c05a', 'Longitud (m)': 2.43, 'Tiempo (s)': 0.52, 'Gravedad (m/s^2)': 17.97, 'Planeta más cercano': 'Tierra', '2ndo más cercano': 'Saturno'}\n",
      "{'Id': '94a202d8-1298-423c-a438-ce85216bfa42', 'Longitud (m)': 1.85, 'Tiempo (s)': 0.74, 'Gravedad (m/s^2)': 6.76, 'Planeta más cercano': 'Tierra', '2ndo más cercano': 'Saturno'}\n",
      "{'Id': 'ac99d8b8-da80-4dec-a453-77e6846d79ca', 'Longitud (m)': 2.06, 'Tiempo (s)': 0.4, 'Gravedad (m/s^2)': 25.75, 'Planeta más cercano': 'Tierra', '2ndo más cercano': 'Saturno'}\n",
      "{'Id': '7923ce55-431e-4c05-a719-112bd5df177c', 'Longitud (m)': 1.18, 'Tiempo (s)': 0.48, 'Gravedad (m/s^2)': 10.24, 'Planeta más cercano': 'Tierra', '2ndo más cercano': 'Saturno'}\n",
      "{'Id': '29c9c84f-d0d7-42c8-a5da-21aa9c8833ce', 'Longitud (m)': 1.62, 'Tiempo (s)': 0.44, 'Gravedad (m/s^2)': 16.74, 'Planeta más cercano': 'Tierra', '2ndo más cercano': 'Saturno'}\n",
      "{'Id': '36b6d6a7-dc7e-482c-9cfe-321001985bc6', 'Longitud (m)': 1.88, 'Tiempo (s)': 0.66, 'Gravedad (m/s^2)': 8.63, 'Planeta más cercano': 'Tierra', '2ndo más cercano': 'Saturno'}\n",
      "{'Id': '395583fc-978c-43ad-baf8-fa8fb0b8e31b', 'Longitud (m)': 1.1, 'Tiempo (s)': 0.44, 'Gravedad (m/s^2)': 11.36, 'Planeta más cercano': 'Tierra', '2ndo más cercano': 'Saturno'}\n",
      "{'Id': 'ea15febf-0aac-40ed-bcbf-9c32f0eb728a', 'Longitud (m)': 1.27, 'Tiempo (s)': 0.69, 'Gravedad (m/s^2)': 5.34, 'Planeta más cercano': 'Tierra', '2ndo más cercano': 'Saturno'}\n",
      "{'Id': '39386f44-11e3-4c11-b556-46637b9c550d', 'Longitud (m)': 2.34, 'Tiempo (s)': 0.71, 'Gravedad (m/s^2)': 9.28, 'Planeta más cercano': 'Tierra', '2ndo más cercano': 'Saturno'}\n",
      "{'Id': '3a286d23-ae34-4504-b6e5-c45835168341', 'Longitud (m)': 1.93, 'Tiempo (s)': 0.32, 'Gravedad (m/s^2)': 37.7, 'Planeta más cercano': 'Tierra', '2ndo más cercano': 'Saturno'}\n",
      "{'Id': 'e89781f3-699a-441a-b91f-eddd4875feaa', 'Longitud (m)': 1.89, 'Tiempo (s)': 0.66, 'Gravedad (m/s^2)': 8.68, 'Planeta más cercano': 'Tierra', '2ndo más cercano': 'Saturno'}\n",
      "{'Id': 'b49d36b0-9301-46ac-9ce7-4cd9a043670f', 'Longitud (m)': 0.71, 'Tiempo (s)': 0.61, 'Gravedad (m/s^2)': 3.82, 'Planeta más cercano': 'Tierra', '2ndo más cercano': 'Saturno'}\n",
      "{'Id': 'b03ef5a2-a825-4b56-9eac-1a339f9ba205', 'Longitud (m)': 1.76, 'Tiempo (s)': 0.68, 'Gravedad (m/s^2)': 7.61, 'Planeta más cercano': 'Tierra', '2ndo más cercano': 'Saturno'}\n",
      "{'Id': '59656c9e-b457-4f36-9080-83e8034a638f', 'Longitud (m)': 2.33, 'Tiempo (s)': 0.75, 'Gravedad (m/s^2)': 8.28, 'Planeta más cercano': 'Tierra', '2ndo más cercano': 'Saturno'}\n",
      "{'Id': '77832308-3d24-4655-ab0e-43bb5084e207', 'Longitud (m)': 1.75, 'Tiempo (s)': 0.75, 'Gravedad (m/s^2)': 6.22, 'Planeta más cercano': 'Tierra', '2ndo más cercano': 'Saturno'}\n",
      "{'Id': '7a447b9f-8e2f-4194-93bc-047c499bd0a3', 'Longitud (m)': 1.49, 'Tiempo (s)': 0.39, 'Gravedad (m/s^2)': 19.59, 'Planeta más cercano': 'Tierra', '2ndo más cercano': 'Saturno'}\n",
      "{'Id': '1b8bb26a-e188-4428-a355-1186e4767234', 'Longitud (m)': 0.8, 'Tiempo (s)': 0.3, 'Gravedad (m/s^2)': 17.78, 'Planeta más cercano': 'Tierra', '2ndo más cercano': 'Saturno'}\n",
      "{'Id': '018fc116-c2aa-4b02-9925-ee5e9e184a28', 'Longitud (m)': 2.39, 'Tiempo (s)': 0.65, 'Gravedad (m/s^2)': 11.31, 'Planeta más cercano': 'Tierra', '2ndo más cercano': 'Saturno'}\n",
      "{'Id': '2a98b924-d2cf-4b45-a3df-a77ca7d1d24b', 'Longitud (m)': 1.55, 'Tiempo (s)': 0.69, 'Gravedad (m/s^2)': 6.51, 'Planeta más cercano': 'Tierra', '2ndo más cercano': 'Saturno'}\n"
     ]
    }
   ],
   "source": [
    "# genero datos aleatorios para el primer escenario\n",
    "fake = fk.Faker()\n",
    "\n",
    "def generar_datos():\n",
    "    L = round(rd.uniform(0.7, 2.5), 2)\n",
    "    t = round(rd.uniform(0.3, 0.8), 2)\n",
    "    g_calculada = round((2*L) / (t**2), 2)\n",
    "    planeta_mas_cercano = 'Tierra' if abs(g_calculada < 9.8) < abs(g_calculada) else ''\n",
    "    segundo_mas_cercano ='Saturno' if planeta_mas_cercano == 'Tierra' else ''\n",
    "    return {\n",
    "        'Id': fake.uuid4(),\n",
    "        'Longitud (m)': L,\n",
    "        'Tiempo (s)': t,\n",
    "        'Gravedad (m/s^2)': g_calculada,\n",
    "        'Planeta más cercano': planeta_mas_cercano,\n",
    "        '2ndo más cercano': segundo_mas_cercano\n",
    "    }\n",
    "\n",
    "\n",
    "dataframe = [generar_datos() for _ in range(100)]\n",
    "\n",
    "for experimento in dataframe:\n",
    "    print(experimento)\n",
    "    "
   ]
  },
  {
   "cell_type": "code",
   "execution_count": 63,
   "metadata": {},
   "outputs": [
    {
     "ename": "NameError",
     "evalue": "name 'calcular_g' is not defined",
     "output_type": "error",
     "traceback": [
      "\u001b[1;31m---------------------------------------------------------------------------\u001b[0m",
      "\u001b[1;31mNameError\u001b[0m                                 Traceback (most recent call last)",
      "\u001b[1;32mc:\\Users\\enriq\\Desktop\\Tarea-DataSet-\\Ejercicio_DataSet.ipynb Cell 8\u001b[0m in \u001b[0;36m1\n\u001b[0;32m      <a href='vscode-notebook-cell:/c%3A/Users/enriq/Desktop/Tarea-DataSet-/Ejercicio_DataSet.ipynb#X23sZmlsZQ%3D%3D?line=8'>9</a>\u001b[0m         ws\u001b[39m.\u001b[39mappend([peso_planeta_1m, g, t, L1])\n\u001b[0;32m     <a href='vscode-notebook-cell:/c%3A/Users/enriq/Desktop/Tarea-DataSet-/Ejercicio_DataSet.ipynb#X23sZmlsZQ%3D%3D?line=10'>11</a>\u001b[0m     wb\u001b[39m.\u001b[39msave(filename)\n\u001b[1;32m---> <a href='vscode-notebook-cell:/c%3A/Users/enriq/Desktop/Tarea-DataSet-/Ejercicio_DataSet.ipynb#X23sZmlsZQ%3D%3D?line=12'>13</a>\u001b[0m create_experiment_xlsx(L1, \u001b[39m1000\u001b[39;49m, \u001b[39m'\u001b[39;49m\u001b[39mDatos_1º_experimento.xlsx\u001b[39;49m\u001b[39m'\u001b[39;49m)\n",
      "\u001b[1;32mc:\\Users\\enriq\\Desktop\\Tarea-DataSet-\\Ejercicio_DataSet.ipynb Cell 8\u001b[0m in \u001b[0;36m8\n\u001b[0;32m      <a href='vscode-notebook-cell:/c%3A/Users/enriq/Desktop/Tarea-DataSet-/Ejercicio_DataSet.ipynb#X23sZmlsZQ%3D%3D?line=5'>6</a>\u001b[0m \u001b[39mfor\u001b[39;00m _ \u001b[39min\u001b[39;00m \u001b[39mrange\u001b[39m(n_experiments):\n\u001b[0;32m      <a href='vscode-notebook-cell:/c%3A/Users/enriq/Desktop/Tarea-DataSet-/Ejercicio_DataSet.ipynb#X23sZmlsZQ%3D%3D?line=6'>7</a>\u001b[0m     t \u001b[39m=\u001b[39m \u001b[39mround\u001b[39m(rd\u001b[39m.\u001b[39muniform(\u001b[39m0.46\u001b[39m, \u001b[39m0.51\u001b[39m), \u001b[39m2\u001b[39m)\n\u001b[1;32m----> <a href='vscode-notebook-cell:/c%3A/Users/enriq/Desktop/Tarea-DataSet-/Ejercicio_DataSet.ipynb#X23sZmlsZQ%3D%3D?line=7'>8</a>\u001b[0m     g \u001b[39m=\u001b[39m calcular_g(L, t)\n\u001b[0;32m      <a href='vscode-notebook-cell:/c%3A/Users/enriq/Desktop/Tarea-DataSet-/Ejercicio_DataSet.ipynb#X23sZmlsZQ%3D%3D?line=8'>9</a>\u001b[0m     ws\u001b[39m.\u001b[39mappend([peso_planeta_1m, g, t, L1])\n\u001b[0;32m     <a href='vscode-notebook-cell:/c%3A/Users/enriq/Desktop/Tarea-DataSet-/Ejercicio_DataSet.ipynb#X23sZmlsZQ%3D%3D?line=10'>11</a>\u001b[0m wb\u001b[39m.\u001b[39msave(filename)\n",
      "\u001b[1;31mNameError\u001b[0m: name 'calcular_g' is not defined"
     ]
    }
   ],
   "source": [
    "def create_experiment_xlsx(L, n_experiments, filename):\n",
    "    wb = openpyxl.Workbook()\n",
    "    ws = wb.active\n",
    "    ws.append(['Planeta', 'Gravedad (m/s^2)', 'Tiempo (s)', 'Distancia (m)'])\n",
    "\n",
    "    for _ in range(n_experiments):\n",
    "        t = round(rd.uniform(0.46, 0.51), 2)\n",
    "        g = calcular_g(L, t)\n",
    "        ws.append([peso_planeta_1m, g, t, L1])\n",
    "\n",
    "    wb.save(filename)\n",
    "\n",
    "create_experiment_xlsx(L1, 1000, 'Datos_1º_experimento.xlsx')"
   ]
  },
  {
   "cell_type": "code",
   "execution_count": null,
   "metadata": {},
   "outputs": [
    {
     "data": {
      "text/html": [
       "<div>\n",
       "<style scoped>\n",
       "    .dataframe tbody tr th:only-of-type {\n",
       "        vertical-align: middle;\n",
       "    }\n",
       "\n",
       "    .dataframe tbody tr th {\n",
       "        vertical-align: top;\n",
       "    }\n",
       "\n",
       "    .dataframe thead th {\n",
       "        text-align: right;\n",
       "    }\n",
       "</style>\n",
       "<table border=\"1\" class=\"dataframe\">\n",
       "  <thead>\n",
       "    <tr style=\"text-align: right;\">\n",
       "      <th></th>\n",
       "      <th>Id</th>\n",
       "      <th>Longitud (m)</th>\n",
       "      <th>Tiempo (s)</th>\n",
       "      <th>Gravedad (m/s^2)</th>\n",
       "      <th>Planeta más cercano</th>\n",
       "      <th>2ndo más cercano</th>\n",
       "    </tr>\n",
       "  </thead>\n",
       "  <tbody>\n",
       "    <tr>\n",
       "      <th>0</th>\n",
       "      <td>3ff77813-99c9-4e60-8704-f015108548ff</td>\n",
       "      <td>1.98</td>\n",
       "      <td>0.51</td>\n",
       "      <td>15.22</td>\n",
       "      <td>Tierra</td>\n",
       "      <td>Saturno</td>\n",
       "    </tr>\n",
       "    <tr>\n",
       "      <th>1</th>\n",
       "      <td>e6cb097d-b345-4c79-b7c2-a43b98b51c6e</td>\n",
       "      <td>1.12</td>\n",
       "      <td>0.64</td>\n",
       "      <td>5.47</td>\n",
       "      <td>Tierra</td>\n",
       "      <td>Saturno</td>\n",
       "    </tr>\n",
       "    <tr>\n",
       "      <th>2</th>\n",
       "      <td>b4b679ff-ceff-4621-8fd5-c68e97295172</td>\n",
       "      <td>2.46</td>\n",
       "      <td>0.48</td>\n",
       "      <td>21.35</td>\n",
       "      <td>Tierra</td>\n",
       "      <td>Saturno</td>\n",
       "    </tr>\n",
       "    <tr>\n",
       "      <th>3</th>\n",
       "      <td>6da00c89-9921-43d8-9c91-904ae957130a</td>\n",
       "      <td>1.31</td>\n",
       "      <td>0.36</td>\n",
       "      <td>20.22</td>\n",
       "      <td>Tierra</td>\n",
       "      <td>Saturno</td>\n",
       "    </tr>\n",
       "    <tr>\n",
       "      <th>4</th>\n",
       "      <td>f5cb8db0-af85-4920-b16e-d501cebee0ce</td>\n",
       "      <td>0.72</td>\n",
       "      <td>0.34</td>\n",
       "      <td>12.46</td>\n",
       "      <td>Tierra</td>\n",
       "      <td>Saturno</td>\n",
       "    </tr>\n",
       "    <tr>\n",
       "      <th>...</th>\n",
       "      <td>...</td>\n",
       "      <td>...</td>\n",
       "      <td>...</td>\n",
       "      <td>...</td>\n",
       "      <td>...</td>\n",
       "      <td>...</td>\n",
       "    </tr>\n",
       "    <tr>\n",
       "      <th>95</th>\n",
       "      <td>f6cbc537-7447-4bc5-b705-05fa93891ab1</td>\n",
       "      <td>2.50</td>\n",
       "      <td>0.32</td>\n",
       "      <td>48.83</td>\n",
       "      <td>Tierra</td>\n",
       "      <td>Saturno</td>\n",
       "    </tr>\n",
       "    <tr>\n",
       "      <th>96</th>\n",
       "      <td>d27cc76a-fb8c-42b7-8f38-30cfbe5ff546</td>\n",
       "      <td>1.15</td>\n",
       "      <td>0.71</td>\n",
       "      <td>4.56</td>\n",
       "      <td>Tierra</td>\n",
       "      <td>Saturno</td>\n",
       "    </tr>\n",
       "    <tr>\n",
       "      <th>97</th>\n",
       "      <td>03fbabff-3dc0-4af2-8c34-6acb5542cea0</td>\n",
       "      <td>2.44</td>\n",
       "      <td>0.46</td>\n",
       "      <td>23.06</td>\n",
       "      <td>Tierra</td>\n",
       "      <td>Saturno</td>\n",
       "    </tr>\n",
       "    <tr>\n",
       "      <th>98</th>\n",
       "      <td>9a571901-8170-4fa7-87a7-d289b5d9550a</td>\n",
       "      <td>2.45</td>\n",
       "      <td>0.33</td>\n",
       "      <td>45.00</td>\n",
       "      <td>Tierra</td>\n",
       "      <td>Saturno</td>\n",
       "    </tr>\n",
       "    <tr>\n",
       "      <th>99</th>\n",
       "      <td>1e52ae9b-600e-4c6e-8370-377f6bb2ccb8</td>\n",
       "      <td>1.82</td>\n",
       "      <td>0.61</td>\n",
       "      <td>9.78</td>\n",
       "      <td>Tierra</td>\n",
       "      <td>Saturno</td>\n",
       "    </tr>\n",
       "  </tbody>\n",
       "</table>\n",
       "<p>100 rows × 6 columns</p>\n",
       "</div>"
      ],
      "text/plain": [
       "                                      Id  Longitud (m)  Tiempo (s)   \n",
       "0   3ff77813-99c9-4e60-8704-f015108548ff          1.98        0.51  \\\n",
       "1   e6cb097d-b345-4c79-b7c2-a43b98b51c6e          1.12        0.64   \n",
       "2   b4b679ff-ceff-4621-8fd5-c68e97295172          2.46        0.48   \n",
       "3   6da00c89-9921-43d8-9c91-904ae957130a          1.31        0.36   \n",
       "4   f5cb8db0-af85-4920-b16e-d501cebee0ce          0.72        0.34   \n",
       "..                                   ...           ...         ...   \n",
       "95  f6cbc537-7447-4bc5-b705-05fa93891ab1          2.50        0.32   \n",
       "96  d27cc76a-fb8c-42b7-8f38-30cfbe5ff546          1.15        0.71   \n",
       "97  03fbabff-3dc0-4af2-8c34-6acb5542cea0          2.44        0.46   \n",
       "98  9a571901-8170-4fa7-87a7-d289b5d9550a          2.45        0.33   \n",
       "99  1e52ae9b-600e-4c6e-8370-377f6bb2ccb8          1.82        0.61   \n",
       "\n",
       "    Gravedad (m/s^2) Planeta más cercano 2ndo más cercano  \n",
       "0              15.22              Tierra          Saturno  \n",
       "1               5.47              Tierra          Saturno  \n",
       "2              21.35              Tierra          Saturno  \n",
       "3              20.22              Tierra          Saturno  \n",
       "4              12.46              Tierra          Saturno  \n",
       "..               ...                 ...              ...  \n",
       "95             48.83              Tierra          Saturno  \n",
       "96              4.56              Tierra          Saturno  \n",
       "97             23.06              Tierra          Saturno  \n",
       "98             45.00              Tierra          Saturno  \n",
       "99              9.78              Tierra          Saturno  \n",
       "\n",
       "[100 rows x 6 columns]"
      ]
     },
     "execution_count": 40,
     "metadata": {},
     "output_type": "execute_result"
    }
   ],
   "source": [
    "df = pd.DataFrame(dataframe)\n",
    "df"
   ]
  },
  {
   "cell_type": "code",
   "execution_count": null,
   "metadata": {},
   "outputs": [
    {
     "name": "stdout",
     "output_type": "stream",
     "text": [
      "       Longitud (m)  Tiempo (s)  Gravedad (m/s^2)\n",
      "count     100.00000  100.000000        100.000000\n",
      "mean        1.59430    0.561000         12.563100\n",
      "std         0.50132    0.139469          8.919776\n",
      "min         0.74000    0.300000          3.240000\n",
      "25%         1.20500    0.437500          6.687500\n",
      "50%         1.48500    0.570000          9.200000\n",
      "75%         2.06500    0.690000         15.162500\n",
      "max         2.46000    0.800000         44.730000\n"
     ]
    }
   ],
   "source": [
    "print(df.describe())"
   ]
  },
  {
   "cell_type": "code",
   "execution_count": null,
   "metadata": {},
   "outputs": [
    {
     "data": {
      "image/png": "[encoded data removed]",
      "text/plain": [
       "<Figure size 640x480 with 4 Axes>"
      ]
     },
     "metadata": {},
     "output_type": "display_data"
    }
   ],
   "source": [
    "# histogramas\n",
    "df.hist(column=['Longitud (m)', 'Tiempo (s)', 'Gravedad (m/s^2)'])\n",
    "plt.show()"
   ]
  },
  {
   "cell_type": "code",
   "execution_count": null,
   "metadata": {},
   "outputs": [
    {
     "data": {
      "image/png": "[encoded data removed]",
      "text/plain": [
       "<Figure size 640x480 with 1 Axes>"
      ]
     },
     "metadata": {},
     "output_type": "display_data"
    }
   ],
   "source": [
    "# grafico de dispersion\n",
    "plt.scatter(df['Longitud (m)'], df['Tiempo (s)'])\n",
    "plt.xlabel('Longitud (m)')\n",
    "plt.ylabel('Tiempo (s)')\n",
    "plt.show()"
   ]
  },
  {
   "cell_type": "code",
   "execution_count": null,
   "metadata": {},
   "outputs": [],
   "source": [
    "# codificar etiquetas de planetas \n",
    "\n",
    "codificador_etiquetas = LabelEncoder()\n",
    "df['Planeta más cercano (codigo)'] = codificador_etiquetas.fit_transform(df['Planeta más cercano'])\n",
    "df['2ndo más cercano (codigo)'] = codificador_etiquetas.fit_transform(df['2ndo más cercano'])"
   ]
  },
  {
   "cell_type": "code",
   "execution_count": null,
   "metadata": {},
   "outputs": [
    {
     "name": "stdout",
     "output_type": "stream",
     "text": [
      "                              Longitud (m)  Tiempo (s)  Gravedad (m/s^2)   \n",
      "Longitud (m)                      1.000000   -0.178982          0.539192  \\\n",
      "Tiempo (s)                       -0.178982    1.000000         -0.826136   \n",
      "Gravedad (m/s^2)                  0.539192   -0.826136          1.000000   \n",
      "Planeta más cercano (codigo)           NaN         NaN               NaN   \n",
      "2ndo más cercano (codigo)              NaN         NaN               NaN   \n",
      "\n",
      "                              Planeta más cercano (codigo)   \n",
      "Longitud (m)                                           NaN  \\\n",
      "Tiempo (s)                                             NaN   \n",
      "Gravedad (m/s^2)                                       NaN   \n",
      "Planeta más cercano (codigo)                           NaN   \n",
      "2ndo más cercano (codigo)                              NaN   \n",
      "\n",
      "                              2ndo más cercano (codigo)  \n",
      "Longitud (m)                                        NaN  \n",
      "Tiempo (s)                                          NaN  \n",
      "Gravedad (m/s^2)                                    NaN  \n",
      "Planeta más cercano (codigo)                        NaN  \n",
      "2ndo más cercano (codigo)                           NaN  \n"
     ]
    }
   ],
   "source": [
    "# correlación entre variables \n",
    "\n",
    "# eliminar columnas no numéricas\n",
    "df_numeric = df.select_dtypes(include=[np.number])\n",
    "\n",
    "# calcular correlación\n",
    "print(df_numeric.corr())\n"
   ]
  },
  {
   "cell_type": "code",
   "execution_count": null,
   "metadata": {},
   "outputs": [
    {
     "data": {
      "image/png": "[encoded data removed]",
      "text/plain": [
       "<Figure size 640x480 with 1 Axes>"
      ]
     },
     "metadata": {},
     "output_type": "display_data"
    }
   ],
   "source": [
    "# regresion lineal \n",
    "X = df['Longitud (m)'].values.reshape(-1, 1)\n",
    "y = df['Tiempo (s)'].values.reshape(-1, 1)\n",
    "regresion_lineal = LinearRegression()\n",
    "regresion_lineal.fit(X, y)\n",
    "\n",
    "y_pred = regresion_lineal.predict(X)\n",
    "plt.scatter(X, y, color='blue')\n",
    "plt.plot(X, y_pred, color='red')\n",
    "plt.xlabel('Longitud (m)')\n",
    "plt.ylabel('Tiempo (s)')\n",
    "plt.show()"
   ]
  }
 ],
 "metadata": {
  "kernelspec": {
   "display_name": "Python 3",
   "language": "python",
   "name": "python3"
  },
  "language_info": {
   "codemirror_mode": {
    "name": "ipython",
    "version": 3
   },
   "file_extension": ".py",
   "mimetype": "text/x-python",
   "name": "python",
   "nbconvert_exporter": "python",
   "pygments_lexer": "ipython3",
   "version": "3.10.11"
  },
  "orig_nbformat": 4
 },
 "nbformat": 4,
 "nbformat_minor": 2
}
