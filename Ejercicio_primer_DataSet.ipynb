{
 "cells": [
  {
   "cell_type": "code",
   "execution_count": null,
   "metadata": {},
   "outputs": [],
   "source": [
    "# importamos las librerias necesarias\n",
    "import pandas as pd\n",
    "import faker as fk\n",
    "import random as rd\n",
    "import pandas as pd\n",
    "import numpy as np\n",
    "from sklearn.linear_model import LinearRegression\n",
    "import matplotlib.pyplot as plt\n",
    "from sklearn.preprocessing import LabelEncoder\n",
    "import openpyxl\n",
    "import sympy as sp"
   ]
  },
  {
   "cell_type": "code",
   "execution_count": null,
   "metadata": {},
   "outputs": [],
   "source": [
    "planetas = {\n",
    "    \"Tierra\": 9.8,\n",
    "    \"Marte\": 3.7,\n",
    "    \"Júpiter\": 24.8,\n",
    "    \"Saturno\": 9.0,\n",
    "    \"Urano\": 8.7,\n",
    "    \"Neptuno\": 11.0\n",
    "}"
   ]
  },
  {
   "cell_type": "code",
   "execution_count": null,
   "metadata": {},
   "outputs": [],
   "source": [
    "# Para el apartado A\n",
    "L1 = 1.00\n",
    "t1 = 0.46\n",
    "g_a = 2*L1 / (t1**2)\n",
    "print(\"La aceleración de la gravedad es: \", g_a)"
   ]
  },
  {
   "cell_type": "code",
   "execution_count": null,
   "metadata": {},
   "outputs": [],
   "source": [
    "# Para el apartado B\n",
    "L2 = 2.00\n",
    "t2 = 0.66\n",
    "g_b = 2*L2 / (t2**2)\n",
    "print(\"La aceleración de la gravedad es: \", g_b)"
   ]
  },
  {
   "cell_type": "code",
   "execution_count": null,
   "metadata": {},
   "outputs": [],
   "source": [
    "# creamos un dataframe con los datos\n",
    "df = pd.DataFrame({\n",
    "    'Longitud': [L1, L2],\n",
    "    'Tiempo': [t1, t2],\n",
    "    'Gravedad': [g_a, g_b],\n",
    "    'Planeta más cercano': ['Tierra', 'Saturno'],\n",
    "    '2ndo más cercano': ['Saturno', 'Tierra']},index= ['Escenario A', 'Escenario B'])\n",
    "df"
   ]
  },
  {
   "cell_type": "code",
   "execution_count": null,
   "metadata": {},
   "outputs": [],
   "source": [
    "def calcular_error(L, t):\n",
    "    L_simbolo, t_simbolo = sp.symbols('L t')\n",
    "    g_calculada_simbolo = (2*L_simbolo) / (t_simbolo**2)\n",
    "    \n",
    "    derivada_parcial_L = sp.diff(g_calculada_simbolo, L_simbolo)\n",
    "    derivada_parcial_t = sp.diff(g_calculada_simbolo, t_simbolo)\n",
    "    \n",
    "    error_L = 0.01\n",
    "    error_t = 0.01\n",
    "    \n",
    "    error_g_calculada = sp.sqrt((derivada_parcial_L * error_L)**2 + (derivada_parcial_t * error_t)**2)\n",
    "    \n",
    "    return float(error_g_calculada.subs({L_simbolo: L, t_simbolo: t}))\n",
    "\n",
    "    "
   ]
  },
  {
   "cell_type": "code",
   "execution_count": null,
   "metadata": {},
   "outputs": [],
   "source": [
    "fake = fk.Faker()\n",
    "\n",
    "def generar_datos(planetas, L_objetivo, t_objetivo):\n",
    "    L = round(rd.uniform(L_objetivo - 0.1, L_objetivo + 0.1), 2)\n",
    "    t = round(rd.uniform(t_objetivo - 0.1, t_objetivo + 0.1), 2)\n",
    "    g_calculada = round((2*L) / (t**2), 2)\n",
    "\n",
    "    diferencia_minima = float('inf')\n",
    "    planeta_mas_cercano = ''\n",
    "    \n",
    "    diferencia_minima_2 = float('inf')\n",
    "    segundo_planeta_mas_cercano = ''\n",
    "\n",
    "    for planeta, gravedad in planetas.items():\n",
    "        diferencia = abs(gravedad - g_calculada)\n",
    "        if diferencia < diferencia_minima:\n",
    "            diferencia_minima = diferencia\n",
    "            planeta_mas_cercano = planeta\n",
    "    \n",
    "    for planeta, gravedad in planetas.items():\n",
    "        if planeta != planeta_mas_cercano:\n",
    "            diferencia = abs(gravedad - g_calculada)\n",
    "            if diferencia < diferencia_minima_2:\n",
    "                diferencia_minima_2 = diferencia\n",
    "                segundo_planeta_mas_cercano = planeta\n",
    "    \n",
    "    error_g_calculada = calcular_error(L, t)\n",
    "    error_porcentaje = (error_g_calculada / g_calculada) * 100\n",
    "    \n",
    "    return {\n",
    "        'Id': fake.uuid4(),\n",
    "        'Longitud (m)': L,\n",
    "        'Tiempo (s)': t,\n",
    "        'Gravedad (m/s^2)': g_calculada,\n",
    "        'Planeta más cercano': planeta_mas_cercano,\n",
    "        'Segundo Planeta más cercano': segundo_planeta_mas_cercano,\n",
    "        'Error Gravedad (m/s^2)': error_g_calculada,\n",
    "        'Error Porcentaje (%)': error_porcentaje\n",
    "    }\n",
    "\n",
    "df_a = pd.DataFrame([generar_datos(planetas, L1, t1) for _ in range(1000)])\n",
    "df_a\n",
    "\n"
   ]
  },
  {
   "cell_type": "code",
   "execution_count": null,
   "metadata": {},
   "outputs": [],
   "source": [
    "df_b = pd.DataFrame([generar_datos(planetas, L2, t2) for _ in range(1000)])\n",
    "df_b"
   ]
  },
  {
   "cell_type": "code",
   "execution_count": null,
   "metadata": {},
   "outputs": [],
   "source": [
    "def analizar_dataframe(df):\n",
    "    # Estadísticas descriptivas\n",
    "    print(df.describe())\n",
    "    # Histogramas\n",
    "    df.hist(column=['Longitud (m)', 'Tiempo (s)', 'Gravedad (m/s^2)'])\n",
    "    plt.show()\n",
    "    # Gráfico de dispersión\n",
    "    plt.scatter(df['Longitud (m)'], df['Tiempo (s)'])\n",
    "    plt.xlabel('Longitud (m)')\n",
    "    plt.ylabel('Tiempo (s)')\n",
    "    plt.show()\n",
    "    # codificar etiquetas de planetas\n",
    "    codificador_etiquetas = LabelEncoder()\n",
    "    df['Planeta más cercano (codigo)'] = codificador_etiquetas.fit_transform(df['Planeta más cercano'])\n",
    "    df['Segundo Planeta más cercano (codigo)'] = codificador_etiquetas.fit_transform(df['Segundo Planeta más cercano'])\n",
    "    # correlación entre variables\n",
    "    df_numeric = df.select_dtypes(include=[np.number])\n",
    "    print(df_numeric.corr())\n",
    "    # regresión lineal\n",
    "    X = df['Longitud (m)'].values.reshape(-1, 1)\n",
    "    y = df['Tiempo (s)'].values.reshape(-1, 1)\n",
    "\n",
    "    regresion_lineal = LinearRegression()\n",
    "    regresion_lineal.fit(X, y)\n",
    "\n",
    "    y_pred = regresion_lineal.predict(X)\n",
    "    plt.scatter(X, y, color='blue') \n",
    "    plt.plot(X, y_pred, color='red')\n",
    "    plt.xlabel('Longitud (m)')\n",
    "    plt.ylabel('Tiempo (s)')\n",
    "    plt.show()\n",
    "\n",
    "\n",
    "def contar_planetas(dataframe):\n",
    "    conteo_planetas = dataframe['Planeta más cercano'].value_counts()\n",
    "    \n",
    "    planeta_mas_cercana_nave = conteo_planetas.idxmax()\n",
    "    \n",
    "    conteo_planetas_2 = dataframe['Segundo Planeta más cercano'].value_counts()\n",
    "    \n",
    "    segundo_planeta_mas_cercana_nave = conteo_planetas_2.idxmax()\n",
    "    \n",
    "    return conteo_planetas, planeta_mas_cercana_nave, conteo_planetas_2, segundo_planeta_mas_cercana_nave"
   ]
  },
  {
   "cell_type": "code",
   "execution_count": null,
   "metadata": {},
   "outputs": [],
   "source": [
    "analizar_dataframe(df_a)\n",
    "conteo_planetas_a, planeta_mas_cercana_nave_a, conteo_planetas_2_a, segundo_planeta_mas_cercana_nave_a = contar_planetas(df_a)\n",
    "\n",
    "print(conteo_planetas_a)\n",
    "print(f'El planeta más cercano a la nave es: {planeta_mas_cercana_nave_a}')\n",
    "print(f'El segundo planeta más cercano a la nave es: {segundo_planeta_mas_cercana_nave_a}')"
   ]
  },
  {
   "cell_type": "code",
   "execution_count": null,
   "metadata": {},
   "outputs": [],
   "source": [
    "analizar_dataframe(df_b)\n",
    "conteo_planetas_b, planeta_mas_cercana_nave_b, conteo_planetas_2_b, segundo_planeta_mas_cercana_nave_b = contar_planetas(df_b)\n",
    "\n",
    "print(conteo_planetas_b)\n",
    "print(f'El planeta más cercano a la nave es: {planeta_mas_cercana_nave_b}')\n",
    "print(f'El segundo planeta más cercano a la nave es: {segundo_planeta_mas_cercana_nave_b}')"
   ]
  },
  {
   "cell_type": "code",
   "execution_count": null,
   "metadata": {},
   "outputs": [],
   "source": [
    "dataframe_combinado = pd.concat([df_a, df_b], ignore_index=True)\n",
    "\n",
    "analizar_dataframe(dataframe_combinado)\n",
    "conteo_planetas_combinado, planeta_mas_cercana_nave_combinado, conteo_planetas_2_combinado, segundo_planeta_mas_cercana_nave_combinado = contar_planetas(dataframe_combinado)\n",
    "\n",
    "print(conteo_planetas_combinado)\n",
    "print(f'El planeta más cercano a la nave es: {planeta_mas_cercana_nave_combinado}')\n",
    "print(f'El segundo planeta más cercano a la nave es: {segundo_planeta_mas_cercana_nave_combinado}')"
   ]
  },
  {
   "cell_type": "code",
   "execution_count": null,
   "metadata": {},
   "outputs": [],
   "source": [
    "# creamos un archivo excel con los datos\n",
    "def crear_excel_exp_A():\n",
    "    df = pd.DataFrame(df_a)\n",
    "    df.to_excel('Datos_experimentos_A.xlsx', index=False)\n",
    "    print('Archivo A creado con éxito')\n",
    "\n",
    "\n",
    "def crear_excel_exp_B():\n",
    "    df = pd.DataFrame(df_b)\n",
    "    df.to_excel('Datos_experimentos_B.xlsx', index=False)\n",
    "    print('Archivo  B creado con éxito')\n",
    "\n",
    "crear_excel_exp_A()\n",
    "crear_excel_exp_B()"
   ]
  }
 ],
 "metadata": {
  "kernelspec": {
   "display_name": "Python 3",
   "language": "python",
   "name": "python3"
  },
  "language_info": {
   "codemirror_mode": {
    "name": "ipython",
    "version": 3
   },
   "file_extension": ".py",
   "mimetype": "text/x-python",
   "name": "python",
   "nbconvert_exporter": "python",
   "pygments_lexer": "ipython3",
   "version": "3.10.11"
  },
  "orig_nbformat": 4
 },
 "nbformat": 4,
 "nbformat_minor": 2
}
